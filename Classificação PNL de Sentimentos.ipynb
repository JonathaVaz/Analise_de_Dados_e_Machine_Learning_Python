{
 "cells": [
  {
   "cell_type": "markdown",
   "metadata": {},
   "source": [
    "# Classificação de Sentimentos - Machine Learning\n",
    "## Modelo de Classificação Machine Learning de Sentimentos Positivos (Felicidade, Alegria, Amor)\n",
    "## Ciências de Dados\n",
    "#### Python, Machine Learning, Jupyter Notebook, VSCode, GitHub\n",
    "## Projeto Duo :\n",
    "### - Jonatha Rodrigues ( https://github.com/JonathaVaz )\n",
    "### - José Heenrike ( https://github.com/Heenrike09 )\n",
    "#### Processamento de Linguagem Natural com Python e NLTK\n",
    "#### Implementação com Seleção de Features, Classificação e Análise de Sentimentos\n",
    "# Importando Bibliotecas"
   ]
  },
  {
   "cell_type": "code",
   "execution_count": 1,
   "metadata": {},
   "outputs": [],
   "source": [
    "import nltk\n",
    "import numpy as np"
   ]
  },
  {
   "cell_type": "markdown",
   "metadata": {},
   "source": [
    "# Iniciando o Processamento de Linguagem Natural com Python e NLTK."
   ]
  },
  {
   "cell_type": "code",
   "execution_count": 2,
   "metadata": {},
   "outputs": [],
   "source": [
    "basetreino =[\n",
    "(\"O amor é a asa veloz que Deus deu à alma para que ela voe até o céu.\",\"amor\"),\n",
    "(\"Amar é encontrar na felicidade de outrem a própria felicidade.\",\"amor\"),\n",
    "(\"O amor não se vê com os olhos, mas com o coração.\",\"amor\"),\n",
    "(\"Amar é ser vulnerável.\",\"amor\"),\n",
    "(\"O amor é a única flor que desabrocha sem a ajuda das estações.\",\"amor\"),\n",
    "(\"Amar é dar a alguém a capacidade de destruir você, mas confiar que ela não o fará.\",\"amor\"),\n",
    "(\"O verdadeiro amor nunca se desgasta. Quanto mais se dá, mais se tem.\",\"amor\"),\n",
    "(\"Amar é encontrar na felicidade do outro a própria felicidade.\",\"amor\"),\n",
    "(\"O amor não é algo que você encontra. O amor é algo que encontra você.\",\"amor\"),\n",
    "(\"Amar é encontrar na imperfeição, perfeição.\",\"amor\"),\n",
    "(\"O amor não tem idade, não tem limites e não tem fim.\",\"amor\"),\n",
    "(\"Amar é cuidar do jardim do outro, mesmo quando as flores são diferentes.\",\"amor\"),\n",
    "(\"O amor é a única coisa que cresce à medida que se reparte.\",\"amor\"),\n",
    "(\"Amar é receber um vislumbre do paraíso.\",\"amor\"),\n",
    "(\"O amor é a única força capaz de transformar um inimigo em amigo.\",\"amor\"),\n",
    "(\"Amar é dar alguém a liberdade de te destruir, mas confiar que ela não o fará.\",\"amor\"),\n",
    "(\"O amor é como o vento, você não pode vê-lo, mas pode senti-lo.\",\"amor\"),\n",
    "(\"Amar é ser capaz de ver um anjo na pessoa mais imperfeita.\",\"amor\"),\n",
    "(\"O amor não é algo que se encontra. O amor é algo que se constrói.\"\"amor\"),\n",
    "(\"Amar é como o vento, você não pode ver, mas pode sentir.\",\"amor\"),\n",
    "(\"O amor é a única loucura de um sábio e a única sabedoria de um tolo.\",\"amor\"),\n",
    "(\"Amar é encontrar na dor do outro a própria dor.\",\"amor\"),\n",
    "(\"O amor é a beleza da alma.\",\"amor\"),\n",
    "(\"Amar é encontrar na solidão a companhia perfeita.\",\"amor\"),\n",
    "(\"O amor não faz o mundo girar. O amor é o que faz o giro valer a pena.\",\"amor\"),\n",
    "(\"Amar é cuidar do jardim do outro mesmo quando as flores são diferentes.\",\"amor\"),\n",
    "(\"O amor é a luz que ilumina a escuridão.\",\"amor\"),\n",
    "(\"Amar é dar alguém a capacidade de destruir você, mas confiar que ela não o fará.\",\"amor\"),\n",
    "(\"O amor não é algo que você encontra. O amor é algo que encontra você.\",\"amor\"),\n",
    "(\"Amar é encontrar na imperfeição, perfeição.\",\"amor\"),\n",
    "(\"O verdadeiro amor nunca se desgasta. Quanto mais se dá, mais se tem.\",\"amor\"),\n",
    "(\"Amar é receber um vislumbre do paraíso.\",\"amor\"),\n",
    "(\"O amor é a única coisa que cresce à medida que se reparte.\",\"amor\"),\n",
    "(\"Amar é cuidar do jardim do outro, mesmo quando as flores são diferentes.\",\"amor\"),\n",
    "(\"O amor é a única força capaz de transformar um inimigo em amigo.\",'amor'),\n",
    "(\"Amar é dar alguém a liberdade de te destruir, mas confiar que ela não o fará.\",\"amor\"),\n",
    "(\"O amor é como o vento, você não pode vê-lo, mas pode senti-lo.\",\"amor\"),\n",
    "(\"Amar é ser capaz de ver um anjo na pessoa mais imperfeita.\",\"amor\"),\n",
    "(\"O amor não é algo que se encontra. O amor é algo que se constrói.\",\"amor\"),\n",
    "(\"Amar é como o vento, você não pode ver, mas pode sentir.\",\"amor\"),\n",
    "(\"O amor é a única loucura de um sábio e a única sabedoria de um tolo.\",\"amor\"),\n",
    "(\"Amar é encontrar na dor do outro a própria dor.\",\"amor\"),\n",
    "(\"O amor é a beleza da alma.\",\"amor\"),\n",
    "(\"Amar é encontrar na solidão a companhia perfeita.\",\"amor\"),\n",
    "(\"O amor não faz o mundo girar. O amor é o que faz o giro valer a pena.\",\"amor\"),\n",
    "(\"Amar é cuidar do jardim do outro mesmo quando as flores são diferentes.\",\"amor\"),\n",
    "(\"O amor é a luz que ilumina a escuridão.\",\"amor\"),\n",
    "(\"Amar é dar alguém a capacidade de destruir você, mas confiar que ela não o fará.\",\"amor\"),\n",
    "(\"O amor não é algo que você encontra. O amor é algo que encontra você.\",\"amor\"),\n",
    "(\"Amar é encontrar na imperfeição, perfeição.\",\"amor\"),\n",
    "(\"O amor é a força mais sutil do mundo.\",\"amor\"),\n",
    "(\"O amor é a única resposta sensata para o enigma da existência humana.\",\"amor\"),\n",
    "(\"Amar é como voar, mesmo quando a jornada é desconhecida.\",\"amor\"),\n",
    "(\"O amor não conhece barreiras, ele simplesmente se lança, ousado e irresistível.\",\"amor\"),\n",
    "(\"Amar é uma arte que envolve a paciência de sermos nós mesmos e permitir que o outro também seja.\",\"amor\"),\n",
    "(\"O amor é a chama que alimenta a alma.\",\"amor\"),\n",
    "(\"Amar é uma aventura audaciosa e corajosa.\",\"amor\"),\n",
    "(\"O amor é a única flor que desabrocha e floresce sem a necessidade de ser visto.\",\"amor\"),\n",
    "(\"Amar é como música. Algumas notas podem ser duras, mas são essenciais para a melodia da vida.\",\"amor\"),\n",
    "(\"O amor é a única constante em um mundo de mudanças.\",\"amor\"),\n",
    "(\"Amar é ser grato pelo presente e esperançoso pelo futuro.\",\"amor\"),\n",
    "(\"O amor é uma poesia que os sentimentos escrevem e o coração entende.\",'amor'),\n",
    "(\"Amar é ser capturado pela beleza única de uma alma.\",\"amor\"),\n",
    "(\"O amor é o tempero da vida.\",\"amor\"),\n",
    "(\"Amar é dar significado às pequenas coisas da vida.\",\"amor\"),\n",
    "(\"O amor é o idioma que todos os corações entendem.\",\"amor\"),\n",
    "(\"Amar é encontrar na diferença uma conexão mais profunda.\",\"amor\"),\n",
    "(\"O amor é a dança harmoniosa de duas almas.\",\"amor\"),\n",
    "(\"Amar é mais do que um sentimento; é uma escolha diária.\" , \"amor\"),\n",
    "(\"O amor é a única energia capaz de transformar um momento em uma memória eterna.\",\"amor\"),\n",
    "(\"Amar é compartilhar a jornada, não apenas o destino.\",\"amor\"),\n",
    "(\"O amor é a magia que transforma o ordinário em extraordinário.\",\"amor\"),\n",
    "(\"Amar é encontrar na vulnerabilidade a força mais poderosa.\",\"amor\"),\n",
    "(\"O amor é a trilha sonora da vida.\",\"amor\"),\n",
    "(\"Amar é abraçar a imperfeição com aceitação e carinho.\",\"amor\"),\n",
    "(\"O amor é o sol que ilumina os dias nublados.\",\"amor\"),\n",
    "(\"Amar é ser a razão do sorriso de alguém.\",\"amor\"),\n",
    "(\"O amor é a força que une corações distantes.\",\"amor\"),\n",
    "(\"Amar é a jornada que torna a vida digna de ser vivida.\",\"amor\"),\n",
    "(\"O amor é a cola que une os fragmentos do coração partido.\",\"amor\"),\n",
    "(\"Amar é encontrar na simplicidade a verdadeira grandiosidade.\",\"amor\"),\n",
    "(\"O amor é a centelha divina que habita em cada ser.\",\"amor\"),\n",
    "(\"Amar é a mágica que transforma dois em um.\",\"amor\"),\n",
    "(\"O amor é o fio invisível que conecta almas afins.\",\"amor\"),\n",
    "(\"Amar é sorrir juntos nos dias de sol e segurar as mãos nos dias de tempestade.\",\"amor\"),\n",
    "(\"O amor é a sinfonia que embala os momentos mais especiais.\",\"amor\"),\n",
    "(\"Amar é plantar a semente da felicidade no coração do outro.\",\"amor\"),\n",
    "(\"O amor é a luz que guia os passos na escuridão.\",\"amor\"),\n",
    "(\"Amar é descobrir a beleza nas pequenas coisas.\",\"amor\"),\n",
    "(\"O amor é a essência que permeia toda a existência.\",\"amor\"),\n",
    "(\"Amar é como uma canção que nunca sai de moda.\",\"amor\"),\n",
    "(\"O amor é a tinta que colore os dias em tons vibrantes.\",'amor'),\n",
    "(\"Amar é a arte de tornar a vida uma poesia.\",\"amor\"),\n",
    "(\"O amor é o aroma que perfuma a jornada da vida.\",\"amor\"),\n",
    "(\"Amar é encontrar na jornada a verdadeira recompensa.\",\"amor\"),\n",
    "(\"O amor é a bússola que guia os corações perdidos.\",\"amor\"),\n",
    "(\"Amar é dançar na melodia do momento presente.\",\"amor\"),\n",
    "(\"O amor é a melodia que embala o coração apaixonado.\",\"amor\"),\n",
    "(\"Amar é construir pontes onde antes havia barreiras.\",\"amor\"),\n",
    "(\"O amor é a luz que ilumina o caminho da eternidade.\",\"amor\"),\n",
    "(\"Amar é enxergar a alma através dos olhos do coração.\",\"amor\"),\n",
    "(\"O amor é a força que une as estrelas no vasto universo.\",\"amor\"),\n",
    "(\"Amar é encontrar na simplicidade a verdadeira riqueza da vida.\",\"amor\"),\n",
    "(\"O amor é a poesia que o coração escreve e a alma compreende.\",\"amor\"),\n",
    "(\"Amar é criar laços que resistem ao teste do tempo.\",\"amor\"),\n",
    "(\"O amor é a cola que une os fragmentos do passado, presente e futuro.\",\"amor\"),\n",
    "(\"Amar é cultivar um jardim onde floresce a felicidade compartilhada.\",\"amor\"),\n",
    "(\"O amor é a harmonia que transforma a cacofonia da vida em uma bela sinfonia.\",\"amor\"),\n",
    "(\"Amar é uma jornada onde cada passo é uma expressão de carinho.\",\"amor\"),\n",
    "(\"O amor é o elo que conecta corações distantes e cria laços inquebráveis.\",\"amor\"),\n",
    "(\"A felicidade é um sorriso que irradia luz por onde passa.\",'felicidade'),\n",
    "(\"Sentir o coração leve é estar imerso na plenitude da felicidade.\",'felicidade'),\n",
    "(\"A alegria reside nos gestos singelos carregados de amor.\",'felicidade'),\n",
    "(\"O calor do sol é o carinho da felicidade que toca a pele.\",'felicidade'),\n",
    "(\"A serenidade de uma mente em paz é o alicerce da verdadeira felicidade.\",'felicidade'),\n",
    "(\"A felicidade dança livremente na essência da alma.\",'felicidade'),\n",
    "(\"O contentamento se encontra na apreciação das pequenas maravilhas.\",'felicidade'),\n",
    "(\"A felicidade é um tesouro interno que todos possuímos.\",'felicidade'),\n",
    "(\"O amor é a força motriz por trás da verdadeira felicidade.\",'felicidade'),\n",
    "(\"A alegria reside no presente, na vivência do momento.\",'felicidade'),\n",
    "(\"Encontrar beleza na simplicidade é descobrir a essência da felicidade.\",'felicidade'),\n",
    "(\"A harmonia entre corpo, mente e espírito é o caminho para a felicidade.\",'felicidade'),\n",
    "(\"O sorriso puro de uma criança expressa a essência da felicidade.\",'felicidade'),\n",
    "(\"A gratidão abre as portas para um mundo repleto de felicidade.\",'felicidade'),\n",
    "(\"A felicidade é um estado contagioso que se espalha.\",'felicidade'),\n",
    "(\"O brilho nos olhos revela a chama da alegria interior.\",'felicidade'),\n",
    "(\"A jornada em busca da felicidade é tão significativa quanto o destino.\",'felicidade'),\n",
    "(\"O amor-próprio é a base sólida onde a felicidade floresce.\",'felicidade'),\n",
    "(\"A serenidade está em aceitar e encontrar paz no que não pode ser mudado.\",'felicidade'),\n",
    "(\"A felicidade se manifesta na conexão profunda com quem amamos.\",'felicidade'),\n",
    "(\"O otimismo é o combustível que impulsiona em direção à felicidade.\",'felicidade'),\n",
    "(\"A felicidade é um abraço acolhedor para a alma.\",'felicidade'),\n",
    "(\"Encontrar propósito dá um novo significado e alegria à vida.\",'felicidade'),\n",
    "(\"A felicidade é o estado de plenitude interior que todos buscam.\",'felicidade'),\n",
    "(\"O sentimento de gratidão é a fonte inesgotável da felicidade.\",'felicidade'),\n",
    "(\"A verdadeira felicidade está em compartilhar momentos memoráveis.\",'felicidade'),\n",
    "(\"A alegria está em viver autenticamente, sem máscaras.\",'felicidade'),\n",
    "(\"A felicidade é sentir-se em paz e conforto consigo mesmo.\",'felicidade'),\n",
    "(\"O amor é o idioma universal que todos compreendem na felicidade.\",'felicidade'),\n",
    "(\"A felicidade se encontra no ato de fazer o bem sem esperar recompensas.\",'felicidade'),\n",
    "(\"A felicidade é um presente que abraça a alma.\",'felicidade'),\n",
    "(\"O sorriso é a linguagem da verdadeira felicidade.\",'felicidade'),\n",
    "(\"Sentir-se leve é viver na plenitude da felicidade.\",'felicidade'),\n",
    "(\"A alegria é a música que toca no coração.\",'felicidade'),\n",
    "(\"A felicidade está na gratidão pelas pequenas coisas.\",'felicidade'),\n",
    "(\"O amor é o fio condutor da felicidade.\",'felicidade'),\n",
    "(\"A serenidade é o caminho para a verdadeira felicidade.\",'felicidade'),\n",
    "(\"A felicidade está em encontrar beleza na simplicidade.\",'felicidade'),\n",
    "(\"O contentamento está na jornada, não só no destino.\",'felicidade'),\n",
    "(\"A felicidade é um abraço caloroso na alma.\",'felicidade'),\n",
    "(\"A alegria é viver o momento com plenitude.\",'felicidade'),\n",
    "(\"Encontrar propósito traz uma felicidade duradoura.\",'felicidade'),\n",
    "(\"A felicidade é um estado de harmonia interior.\",'felicidade'),\n",
    "(\"A verdadeira alegria é contagiosa e inspiradora.\",'felicidade'),\n",
    "(\"O amor-próprio é o alicerce da verdadeira felicidade.\",'felicidade'),\n",
    "(\"A serenidade está em aceitar o que não pode ser mudado.\",'felicidade'),\n",
    "(\"A felicidade é uma conexão profunda com o coração.\",'felicidade'),\n",
    "(\"O otimismo é o combustível que alimenta a felicidade.\",'felicidade'),\n",
    "(\"A felicidade está em fazer o bem sem esperar retorno.\",'felicidade'),\n",
    "(\"A alegria está em compartilhar momentos especiais.\",'felicidade'),\n",
    "(\"A felicidade é sentir-se em casa dentro de si mesmo.\",'felicidade'),\n",
    "(\"O sorriso é o reflexo da alma radiante.\",'felicidade'),\n",
    "(\"A plenitude está na busca por significado.\",'felicidade'),\n",
    "(\"A felicidade é um abraço reconfortante na alma.\",'felicidade'),\n",
    "(\"A alegria é a dança da vida em harmonia.\",'felicidade'),\n",
    "(\"A gratidão é o solo fértil onde a felicidade cresce.\",'felicidade'),\n",
    "(\"O amor é o caminho para a felicidade genuína.\",'felicidade'),\n",
    "(\"A serenidade está em encontrar paz na turbulência.\",'felicidade'),\n",
    "(\"A felicidade é o calor de um coração compassivo.\",'felicidade'),\n",
    "(\"A alegria é viver autenticamente, sem máscaras.\",'felicidade'),\n",
    "(\"A felicidade está em encontrar beleza na jornada.\",'felicidade'),\n",
    "(\"O sorriso é a expressão mais pura da felicidade.\",'felicidade'),\n",
    "(\"A plenitude está em viver cada momento intensamente.\",'felicidade'),\n",
    "(\"A felicidade é um abraço acolhedor na alma.\",'felicidade'),\n",
    "(\"A alegria é a sinfonia dos momentos preciosos.\",'felicidade'),\n",
    "(\"A gratidão é o farol que ilumina o caminho da felicidade.\",'felicidade'),\n",
    "(\"O amor-próprio é a raiz da verdadeira felicidade.\",'felicidade'),\n",
    "(\"A serenidade está em encontrar calma na tempestade.\",'felicidade'),\n",
    "(\"A felicidade está em ser quem somos sem reservas.\",'felicidade'),\n",
    "(\"A alegria está em compartilhar sorrisos e risadas.\",'felicidade'),\n",
    "(\"A felicidade é um estado de paz interior.\",'felicidade'),\n",
    "(\"O sorriso é o eco da alma radiante.\",'felicidade'),\n",
    "(\"A plenitude está em viver o momento presente.\",'felicidade'),\n",
    "(\"A felicidade é um abraço caloroso no coração.\",'felicidade'),\n",
    "(\"A alegria é viver a vida com entusiasmo.\",'felicidade'),\n",
    "(\"A gratidão é a chave que abre a porta da felicidade.\",'felicidade'),\n",
    "(\"O amor-próprio é o alicerce da felicidade duradoura.\",'felicidade'),\n",
    "(\"A serenidade está em aceitar e seguir em frente.\",'felicidade'),\n",
    "(\"A felicidade é o abraço suave da alma.\",'felicidade'),\n",
    "(\"A felicidade está nas pequenas coisas da vida.\",'felicidade'),\n",
    "(\"O sorriso de alguém que amamos traz uma felicidade imensa.\",'felicidade'),\n",
    "(\"A felicidade é contagiosa, espalhe-a pelo mundo.\",'felicidade'),\n",
    "(\"O pôr do sol sempre traz uma sensação de felicidade e paz.\",'felicidade'),\n",
    "(\"Rir até doer a barriga é um dos melhores sentimentos de felicidade.\",'felicidade'),\n",
    "(\"A felicidade está em ser verdadeiramente você mesmo.\",'felicidade'),\n",
    "(\"A gratidão pelas pequenas conquistas traz uma felicidade duradoura.\",'felicidade'),\n",
    "(\"A alegria está em compartilhar momentos especiais com amigos.\",'felicidade'),\n",
    "(\"O amor-próprio é a base para a verdadeira felicidade.\",'felicidade'),\n",
    "(\"A felicidade é sentir-se em paz consigo mesmo.\",'felicidade'),\n",
    "(\"Apreciar a natureza traz uma sensação profunda de felicidade.\",'felicidade'),\n",
    "(\"A felicidade está em encontrar alegria nas situações cotidianas.\",'felicidade'),\n",
    "(\"O calor do abraço de alguém querido traz uma felicidade imensurável.\",'felicidade'),\n",
    "(\"A felicidade é um estado de espírito que vem de dentro.\",'felicidade'),\n",
    "(\"A serenidade está em aceitar o que não podemos mudar.\",'felicidade'),\n",
    "(\"O sentimento de gratidão é o segredo da felicidade plena.\",'felicidade'),\n",
    "(\"A felicidade está na busca por momentos significativos.\",'felicidade'),\n",
    "(\"O sorriso é a expressão mais pura da felicidade.\",'felicidade'),\n",
    "(\"A alegria está em aprender algo novo e desafiador.\",'felicidade'),\n",
    "(\"A felicidade é viver o momento presente com intensidade.\",'felicidade'),\n",
    "(\"Aconchego em um dia frio traz uma sensação de felicidade acolhedora.\",'felicidade'),\n",
    "(\"A felicidade está em cultivar relacionamentos genuínos.\",'felicidade'),\n",
    "(\"O amor é a essência da verdadeira felicidade.\",'felicidade'),\n",
    "(\"A felicidade está em reconhecer as bênçãos da vida.\",'felicidade'),\n",
    "(\"O sentimento de plenitude está em realizar sonhos e metas.\",'felicidade'),\n",
    "(\"A alegria está na simplicidade das coisas do dia a dia.\",'felicidade'),\n",
    "(\"A felicidade está em encontrar beleza na diversidade.\",'felicidade'),\n",
    "(\"O carinho de um animal de estimação traz uma felicidade incomparável.\",'felicidade'),\n",
    "(\"A serenidade está em encontrar paz na quietude.\",'felicidade'),\n",
    "(\"A felicidade é contagiar o mundo com positividade.\",'felicidade'),\n",
    "(\"O conforto de um abraço nos momentos difíceis traz felicidade.\",'felicidade'),\n",
    "(\"A alegria está na simplicidade dos momentos cotidianos.\",\"alegria\"),\n",
    "(\"A alegria reside nos gestos singelos carregados de amor.\",\"alegria\"),\n",
    "(\"A alegria está em viver autenticamente, sem máscaras.\",\"alegria\"),\n",
    "(\"A alegria é o sol que ilumina os dias mais sombrios.\",\"alegria\"),\n",
    "(\"O riso sincero é a melodia da verdadeira alegria.\",\"alegria\"),\n",
    "(\"A sensação de contentamento é um abraço para a alma.\",\"alegria\"),\n",
    "(\"A alegria está em apreciar as pequenas maravilhas da vida.\",\"alegria\"),\n",
    "(\"Rir até as lágrimas escorrerem é um bálsamo de alegria.\",\"alegria\"),\n",
    "(\"A verdadeira alegria está em ser quem somos, sem reservas.\",\"alegria\"),\n",
    "(\"A gratidão pelas pequenas conquistas traz uma alegria genuína.\",\"alegria\"),\n",
    "(\"Compartilhar momentos especiais é um festim de alegria.\",\"alegria\"),\n",
    "(\" amor-próprio é o ponto de partida para a felicidade e alegria.\",\"alegria\"),\n",
    "(\"A alegria está em encontrar serenidade no caos.\",\"alegria\"),\n",
    "(\"Apreciar a beleza simples é um convite à alegria.\",\"alegria\"),\n",
    "(\"Um abraço afetuoso é um portal para a alegria.\",\"alegria\"),\n",
    "(\"A alegria é uma jornada interna, não apenas um destino.\",\"alegria\"),\n",
    "(\"Encontrar contentamento está em aceitar o momento presente.\",\"alegria\"),\n",
    "(\"A alegria está em ajudar e fazer a diferença na vida de alguém.\",\"alegria\"),\n",
    "(\"A gratidão é a chave que desvenda a porta da alegria.\",\"alegria\"),\n",
    "(\"A verdadeira alegria está na jornada, não apenas no resultado.\",\"alegria\"),\n",
    "(\"O sorriso é a expressão mais autêntica da alegria.\",\"alegria\"),\n",
    "(\"A alegria está em aprender algo novo e inspirador.\",\"alegria\"),\n",
    "(\"Viver plenamente o agora é uma fonte inesgotável de alegria.\",\"alegria\"),\n",
    "(\"O conforto de um abraço caloroso é um bálsamo de alegria.\",\"alegria\"),\n",
    "(\"A alegria está em cultivar relacionamentos autênticos.\",\"alegria\"),\n",
    "(\"O amor é o combustível que alimenta a alegria verdadeira.\",\"alegria\"),\n",
    "(\"Reconhecer as bênçãos da vida é um portal para a alegria.\",\"alegria\"),\n",
    "(\"Alcançar metas traz uma sensação de realização e alegria.\",\"alegria\"),\n",
    "(\"A alegria está nas pequenas coisas do dia a dia.\",\"alegria\"),\n",
    "(\"Encontrar beleza na diversidade é um tesouro de alegria.\",\"alegria\"),\n",
    "(\"O carinho de um animal de estimação traz uma alegria pura.\",\"alegria\"),\n",
    "(\"A serenidade está em encontrar tranquilidade na quietude.\",\"alegria\"),\n",
    "(\"Espalhar otimismo é uma forma de multiplicar a alegria.\",\"alegria\"),\n",
    "(\"A alegria está em ser uma fonte de luz para os outros.\",\"alegria\"),\n",
    "(\"Encontrar alegria na jornada da vida é uma dádiva.\",\"alegria\"),\n",
    "(\"O sorriso de uma criança é o reflexo da verdadeira alegria.\",\"alegria\"),\n",
    "(\"A alegria está em aprender com os momentos desafiadores.\",\"alegria\"),\n",
    "(\"A serenidade está em aceitar o que não pode ser mudado.\",\"alegria\"),\n",
    "(\"A gratidão é o ponto de partida para uma vida cheia de alegria.\",\"alegria\"),\n",
    "(\"Compartilhar momentos preciosos é uma celebração da alegria.\",\"alegria\"),\n",
    "(\"A alegria está em descobrir a beleza na simplicidade.\",\"alegria\"),\n",
    "(\"O sentimento de paz está em encontrar equilíbrio interior.\",\"alegria\"),\n",
    "(\"A alegria está em compartilhar sorrisos e abraços.\",\"alegria\"),\n",
    "(\"A verdadeira alegria está em dar sem esperar algo em troca.\",\"alegria\"),\n",
    "(\"Encontrar significado traz uma sensação profunda de alegria.\",\"alegria\"),\n",
    "(\"O sorriso é o reflexo da alma radiante de alegria.\",\"alegria\"),\n",
    "(\"A alegria está em viver plenamente cada momento.\",\"alegria\"),\n",
    "(\"A verdadeira alegria está em ser grato pelo presente.\",\"alegria\"),\n",
    "(\"A gratidão é o segredo para uma vida repleta de alegria.\",\"alegria\"),\n",
    "(\"A alegria está em cultivar amizades genuínas.\",\"alegria\"),\n",
    "(\"O amor-próprio é o alicerce da verdadeira alegria.\",\"alegria\"),\n",
    "(\"A serenidade está em encontrar paz na simplicidade.\",\"alegria\"),\n",
    "(\"Espalhar compaixão é uma forma de compartilhar alegria.\",\"alegria\"),\n",
    "(\"A amizade desenvolve a felicidade e reduz o sofrimento, duplicando a nossa alegria e dividindo a nossa dor.\",\"alegria\"),\n",
    "(\"Saber encontrar a alegria na alegria dos outros é o segredo da felicidade.\",\"alegria\"),\n",
    "(\"A alegria evita mil males e prolonga a vida.\",\"alegria\"),\n",
    "(\"A alegria está na luta, na tentativa, no sofrimento envolvido e não na vitória propriamente dita.\",\"alegria\"),\n",
    "(\"Aquele que nunca viu a tristeza, nunca reconhecerá a alegria.\",\"alegria\"),\n",
    "(\"A alegria de fazer o bem é a única felicidade verdadeira.\",\"alegria\"),\n",
    "(\"A amizade duplica as alegrias e divide as tristezas.\",\"alegria\"),\n",
    "(\"A alegria não está nas coisas, está em nós.\",\"alegria\"),\n",
    "(\"A alegria que se tem em pensar e aprender faz-nos pensar e aprender ainda mais.\",\"alegria\"),\n",
    "(\"Deus nunca perturba a alegria dos seus filhos se não for para lhes preparar uma mais certa e maior.\",\"alegria\"),\n",
    "(\"O sábio não se senta para lamentar-se, mas se põe alegremente em sua tarefa de consertar o dano feito.\",\"alegria\"),\n",
    "(\"A objeção, o desvio, a desconfiança alegre, a vontade de troçar são sinais de saúde: tudo o que é absoluto pertence à patologia.\",\"alegria\"),\n",
    "(\"O segredo da felicidade é encontrar a nossa alegria na alegria dos outros.\",\"alegria\"),\n",
    "(\"A alegria é o melhor antídoto para os males da humanidade.\",\"alegria\"),\n",
    "(\"A verdadeira alegria vem de dentro e não depende de circunstâncias externas.\",\"alegria\"),\n",
    "(\"A alegria é uma conquista diária, não um destino final.\",\"alegria\"),\n",
    "(\"A alegria está no equilíbrio entre desejar pouco e apreciar muito.\",\"alegria\"),\n",
    "(\"A alegria é a realização da perfeição humana.\",\"alegria\"),\n",
    "(\"A alegria é o resultado da consciência tranquila e do espírito sereno.\",\"alegria\"),\n",
    "(\"A alegria autêntica vem da aceitação do que é e da busca pelo que pode ser.\",\"alegria\"),\n",
    "(\"A alegria está na contemplação da beleza e da ordem do universo.\",\"alegria\"),\n",
    "(\"A alegria é a expressão máxima da liberdade interior.\",\"alegria\"),\n",
    "(\"A verdadeira alegria está na jornada, não apenas na meta alcançada.\",\"alegria\"),\n",
    "(\"A alegria é a plenitude alcançada quando vivemos em harmonia com a natureza.\",\"alegria\"),\n",
    "(\"A alegria reside na sabedoria de apreciar o presente sem se preocupar demasiadamente com o futuro.\",\"alegria\"),\n",
    "(\"A alegria genuína está em encontrar significado em nossas ações e relações.\",\"alegria\"),\n",
    "(\"A alegria está em compreender que a verdadeira riqueza é interior.\",\"alegria\"),\n",
    "(\"A alegria não está em viver sem problemas, mas em superá-los com sabedoria.\",\"alegria\"),\n",
    "(\"A alegria é a expressão do encontro de nossas capacidades interiores com as grandes necessidades do mundo.\",\"alegria\"),\n",
    "(\"A alegria está na liberdade de escolha e na responsabilidade por nossos atos.\",\"alegria\"),\n",
    "(\"A verdadeira alegria é fruto do cultivo de virtudes como a bondade, a gratidão e a compaixão.\",\"alegria\"),\n",
    "(\"A alegria não consiste em ter muito, mas em apreciar o suficiente.\",\"alegria\"),\n",
    "(\"A alegria é o estado de consciência que acompanha a ação virtuosa.\",\"alegria\"),\n",
    "(\"A alegria está na compreensão de que somos responsáveis pela nossa própria felicidade.\",\"alegria\"),\n",
    "(\"A alegria é o resultado de viver de acordo com a própria natureza.\",\"alegria\"),\n",
    "(\"A alegria não está em adquirir, mas em se livrar do desejo insaciável.\",\"alegria\"),\n",
    "(\"A alegria é fruto da alma em paz consigo mesma.\",\"alegria\"),\n",
    "(\"A alegria verdadeira está na aceitação da realidade tal como ela é.\",\"alegria\"),\n",
    "(\"A alegria é o fruto do esforço consciente para viver uma vida plena de sentido.\",\"alegria\"),\n",
    "(\"A verdadeira alegria está na simplicidade de ser e na complexidade de se tornar.\",\"alegria\"),\n",
    "(\"A alegria está em viver a vida com intensidade e propósito.\",\"alegria\"),\n",
    "(\"A alegria é uma escolha que fazemos independentemente das circunstâncias.\",\"alegria\"),\n",
    "(\"A alegria é o resultado da harmonia entre mente, corpo e alma.\",\"alegria\"),\n",
    "(\"A verdadeira alegria está na paz interior encontrada na meditação e reflexão.\",\"alegria\"),\n",
    "(\"A alegria genuína é um estado de espírito, não apenas uma reação às circunstâncias.\",\"alegria\"),\n",
    "(\"A alegria está em viver cada momento como se fosse único e eterno.\",\"alegria\"),\n",
    "(\"A alegria é fruto da consciência da própria existência e da interconexão com o universo.\",\"alegria\"),\n",
    "(\"A alegria é a recompensa da virtude e do amor.\",\"alegria\"),\n",
    "(\"A alegria está na busca pela sabedoria e no entendimento das verdades do mundo.\",\"alegria\"),\n",
    "(\"A verdadeira alegria é um estado de ser alcançado através do autoconhecimento.\",\"alegria\"),\n",
    "(\"A alegria é o encontro da gratidão com a aceitação do momento presente.\",\"alegria\"),\n",
    "(\"A alegria está em perceber a harmonia do universo e a nossa conexão com ele.\",\"alegria\"),\n",
    "(\"A alegria está na aceitação da vida como um mistério a ser explorado, não como um problema a ser resolvido.\",\"alegria\"),\n",
    "(\"A verdadeira alegria está em compartilhar o amor e a sabedoria com os outros.\",\"alegria\"),\n",
    "(\"A alegria é a compreensão de que a vida é uma jornada, não um destino.\",\"alegria\"),\n",
    "(\"A alegria está em encontrar significado e propósito em tudo o que fazemos.\",\"alegria\"),\n",
    "(\"A verdadeira alegria está na aceitação da impermanência de todas as coisas.\",\"alegria\")]\n",
    "\n",
    "baseteste = [\n",
    "(\"Amar é oferecer o presente da presença, tornando cada momento especial.\",'amor'),\n",
    "(\"O amor é a força que supera as adversidades e encontra a esperança.\",'amor'),\n",
    "(\"Amar é dançar na chuva da vida, celebrando cada gota como uma bênção.\",'amor'),\n",
    "(\"O amor é a fonte de energia que alimenta a jornada da existência.\",'amor'),\n",
    "(\"Amar é encontrar na vulnerabilidade a força para se abrir ao mundo.\",'amor'),\n",
    "(\"O amor é a magia que transforma o comum em extraordinário.\",'amor'),\n",
    "(\"Amar é tecer uma tapeçaria de memórias, colorindo a vida com experiências inesquecíveis.\",'amor'),\n",
    "(\"O amor é a chama que aquece os corações em noites frias.\",'amor'),\n",
    "(\"Amar é encarar o desconhecido com coragem, confiando que o amor guiará o caminho.\",'amor'),\n",
    "(\"O amor é a luz que brilha mesmo nas sombras mais escuras.\",'amor'),\n",
    "(\"Amar é ser a luz que guia o outro de volta para casa.\",'amor'),\n",
    "(\"O amor é a sinfonia que embala a dança eterna da vida.\",'amor'),\n",
    "(\"Amar é nutrir a alma, permitindo que ela cresça e floresça.\",'amor'),\n",
    "(\"O amor é a força que transforma o ordinário em extraordinário.\",'amor'),\n",
    "(\"Amar é embarcar em uma jornada de descobertas constantes e surpresas agradáveis.\",'amor'),\n",
    "(\"O amor é a cola que une as páginas do livro da vida, formando uma história única.\",'amor'),\n",
    "(\"Amar é encontrar na diferença a beleza da diversidade.\",'amor'),\n",
    "(\"O amor é a alquimia que transforma o simples em algo precioso.\", 'amor'),\n",
    "(\"Amar é ser a luz que ilumina o caminho do outro mesmo nos dias mais escuros.\",'amor'),\n",
    "(\"O amor é a bússola que orienta os corações em direção à felicidade.\",'amor'),\n",
    "(\"Amar é um presente que se multiplica quando compartilhado.\",'amor'),\n",
    "(\"O amor é a linguagem que transcende as barreiras do tempo e do espaço.\",'amor'),\n",
    "(\"Amar é encontrar na imperfeição a perfeição da conexão humana.\",'amor'),\n",
    "(\"O amor é a centelha que acende a chama da vida.\",'amor'),\n",
    "(\"Amar é construir uma fortaleza de confiança que resiste aos ventos da incerteza.\",'amor'),\n",
    "(\"O amor é a melodia que embala a dança eterna das almas apaixonadas.\",'amor'),\n",
    "(\"Amar é descobrir na vulnerabilidade a verdadeira força interior.\",'amor'),\n",
    "(\"O amor é a tinta que colore o quadro da vida com tons vibrantes de alegria.\",'amor'),\n",
    "(\"Amar é encontrar na jornada a verdadeira recompensa.\",'amor'),\n",
    "(\"O amor é a sinfonia que embala o coração em todas as estações da vida.\",'amor'),\n",
    "(\"Amar é ser o refúgio nos momentos de tempestade e a alegria nos dias ensolarados.\",'amor'),\n",
    "(\"O amor é a mágica que transforma o comum em extraordinário.\",'amor'),\n",
    "(\"Amar é escrever uma história de amor única, onde cada capítulo é um tesouro.\",'amor'),\n",
    "(\"O amor é a chama que aquece os corações em noites frias.\",'amor'),\n",
    "( \"Amar é encontrar na jornada a verdadeira recompensa.\", 'amor'),\n",
    "(\"A alegria está em celebrar as vitórias, por menores que sejam.\",'felicidade'),\n",
    "(\"A felicidade está em viver uma vida alinhada com nossos valores.\",'felicidade'),\n",
    "(\"A serenidade está em deixar ir o que não podemos controlar.\",'felicidade'),\n",
    "(\"A gratidão é a ponte para uma vida plena de felicidade.\",'felicidade'),\n",
    "(\"A felicidade está em criar memórias preciosas com quem amamos.\",'felicidade'),\n",
    "(\"A alegria está em descobrir beleza na simplicidade.\",'felicidade'),\n",
    "(\"O sentimento de paz está em encontrar equilíbrio interior.\",'felicidade'),\n",
    "(\"A felicidade está em compartilhar sorrisos e abraços.\",'felicidade'),\n",
    "(\"A felicidade está em apreciar os pequenos detalhes da vida.\",'felicidade'),\n",
    "(\"O sorriso de alguém é como música para a alma.\",'felicidade'),\n",
    "(\"A felicidade é contagiante, espalhe-a por onde passar.\",'felicidade'),\n",
    "(\"A sensação de paz ao contemplar a natureza traz felicidade.\",'felicidade'),\n",
    "(\"Rir até as bochechas doerem é um tesouro de felicidade.\",'felicidade'),\n",
    "(\"A verdadeira felicidade está em abraçar sua autenticidade.\",'felicidade'),\n",
    "(\"A gratidão pelas pequenas alegrias traz contentamento.\",'felicidade'),\n",
    "(\"Compartilhar risadas com amigos é um banquete de felicidade.\",'felicidade'),\n",
    "(\"O amor-próprio é o alicerce de uma felicidade duradoura.\",'felicidade'),\n",
    "(\"A felicidade está em encontrar harmonia consigo mesmo.\",'felicidade'),\n",
    "(\"A contemplação da natureza desperta uma alegria profunda.\",'felicidade'),\n",
    "(\"Um abraço afetuoso transborda de felicidade e conforto.\",'felicidade'),\n",
    "(\"A felicidade é um estado de espírito que vem de dentro.\",'felicidade'),\n",
    "(\"Encontrar serenidade está em aceitar o fluxo da vida.\",'felicidade'),\n",
    "(\"A alegria está em contribuir positivamente na vida de alguém.\",'felicidade'),\n",
    "(\"A gratidão é o segredo para desbloquear a felicidade plena.\",'felicidade'),\n",
    "(\"A felicidade reside nas experiências enriquecedoras.\",'felicidade'),\n",
    "(\"O sorriso é a linguagem universal da felicidade.\",'felicidade'),\n",
    "(\"Viver plenamente o presente é uma fonte de felicidade.\",'felicidade'),\n",
    "(\"O conforto de um abraço caloroso é puro contentamento.\",'felicidade'),\n",
    "(\"A felicidade está em nutrir relacionamentos genuínos.\",'felicidade'),\n",
    "(\"Reconhecer as bênçãos da vida traz felicidade genuína.\",'felicidade'),\n",
    "(\"Alcançar metas traz um sentimento de plenitude e felicidade.\",'felicidade'),\n",
    "(\"A alegria está na simplicidade dos momentos cotidianos.\",'felicidade'),\n",
    "(\"Encontrar beleza na diversidade é uma fonte de felicidade.\",'felicidade'),\n",
    "(\"O carinho de um animal de estimação traz uma alegria pura.\",'felicidade'),\n",
    "(\"A serenidade está em encontrar tranquilidade na quietude.\",'felicidade'),\n",
    "(\"A alegria é um raio de sol que aquece a alma.\",\"alegria\"),\n",
    "(\"O sorriso é o idioma universal da alegria.\",\"alegria\"),\n",
    "(\"A alegria está nas pequenas coisas da vida.\",\"alegria\"),\n",
    "(\"Compartilhar momentos especiais é um banquete de alegria.\",\"alegria\"),\n",
    "(\"A verdadeira alegria está em viver o momento presente.\",\"alegria\"),\n",
    "(\"A alegria está em cultivar relacionamentos genuínos.\",\"alegria\"),\n",
    "(\"O amor é o combustível que alimenta a alegria.\",\"alegria\"),\n",
    "(\"A serenidade está em aceitar o que não pode ser mudado.\",\"alegria\"),\n",
    "(\"A alegria está em encontrar beleza na simplicidade.\",\"alegria\"),\n",
    "(\"O otimismo é o caminho para uma vida repleta de alegria.\",\"alegria\"),\n",
    "(\"A gratidão é a chave para desbloquear a felicidade.\",\"alegria\"),\n",
    "(\"A alegria está em compartilhar sorrisos e abraços.\",\"alegria\"),\n",
    "(\"A felicidade é um estado de plenitude interior.\",\"alegria\"),\n",
    "(\"A verdadeira alegria está em ser grato pelo presente.\",\"alegria\"),\n",
    "(\"A serenidade está em encontrar paz na simplicidade.\",\"alegria\"),\n",
    "(\"A alegria está em ajudar e fazer a diferença na vida de alguém.\",\"alegria\"),\n",
    "(\"O amor-próprio é o alicerce da verdadeira alegria.\",\"alegria\"),\n",
    "(\"Encontrar beleza na diversidade é uma fonte inesgotável de alegria.\",\"alegria\"),\n",
    "(\"O carinho de um animal de estimação traz uma alegria pura.\",\"alegria\"),\n",
    "(\"A alegria está em compartilhar momentos especiais com amigos.\",\"alegria\"),\n",
    "(\"A alegria está em reconhecer as bênçãos da vida.\",\"alegria\"),\n",
    "(\"O sorriso é o reflexo da alma radiante de alegria.\",\"alegria\"),\n",
    "(\"A alegria está em viver plenamente cada momento.\",\"alegria\"),\n",
    "(\"A verdadeira alegria está em cultivar amizades genuínas.\",\"alegria\"),\n",
    "(\"A plenitude está em viver o momento presente com gratidão.\",\"alegria\"),\n",
    "(\"A alegria está em compartilhar risadas e momentos leves.\",\"alegria\"),\n",
    "(\"O amor é a fonte mais pura de alegria.\",\"alegria\"),\n",
    "(\"A felicidade está em se sentir em paz consigo mesmo.\",\"alegria\"),\n",
    "(\"A serenidade está em aceitar o que não pode ser mudado.\",\"alegria\"),\n",
    "(\"A alegria está em encontrar beleza na jornada da vida.\",\"alegria\"),\n",
    "(\"O sorriso é o farol que ilumina o caminho da alegria.\",\"alegria\"),\n",
    "(\"A alegria está em ser uma luz para os outros.\",\"alegria\"),\n",
    "(\"A verdadeira alegria está em ser quem somos, sem reservas.\",\"alegria\"),\n",
    "(\"A plenitude está em viver cada momento com entusiasmo.\",\"alegria\"),\n",
    "(\"A alegria está em compartilhar amor e compaixão com o mundo.\"\"alegria\")]"
   ]
  },
  {
   "cell_type": "markdown",
   "metadata": {},
   "source": [
    "# Base de Dados para Exemplificar o Modelo de Não Estruturado de Dados"
   ]
  },
  {
   "cell_type": "code",
   "execution_count": 3,
   "metadata": {},
   "outputs": [],
   "source": [
    "\n",
    "base = [('eu sou admirada por muitos','alegria'),\n",
    "        ('me sinto completamente amado','alegria'),\n",
    "        ('amar e maravilhoso','alegria'),\n",
    "        ('estou me sentindo muito animado novamente','alegria'),\n",
    "        ('eu estou muito bem hoje','alegria'),\n",
    "        ('que belo dia para dirigir um carro novo','alegria'),\n",
    "        ('o dia está muito bonito','alegria'),\n",
    "        ('estou contente com o resultado do teste que fiz no dia de ontem','alegria'),\n",
    "        ('o amor e lindo','alegria'),\n",
    "        ('nossa amizade e amor vai durar para sempre', 'alegria'),\n",
    "        ('estou amedrontado', 'medo'),\n",
    "        ('ele esta me ameacando a dias', 'medo'),\n",
    "        ('isso me deixa apavorada', 'medo'),\n",
    "        ('este lugar e apavorante', 'medo'),\n",
    "        ('se perdermos outro jogo seremos eliminados e isso me deixa com pavor', 'medo'),\n",
    "        ('tome cuidado com o lobisomem', 'medo'),\n",
    "        ('se eles descobrirem estamos encrencados', 'medo'),\n",
    "        ('estou tremendo de medo', 'medo'),\n",
    "        ('eu tenho muito medo dele', 'medo'),\n",
    "        ('estou com medo do resultado dos meus testes', 'medo')]"
   ]
  },
  {
   "cell_type": "markdown",
   "metadata": {},
   "source": [
    "# Criação de Variável que armazenará as StopWords."
   ]
  },
  {
   "cell_type": "code",
   "execution_count": 4,
   "metadata": {},
   "outputs": [],
   "source": [
    "stopwords = ['a', 'agora', 'algum', 'alguma', 'aquele', 'aqueles', 'de', 'deu', 'do', 'e', 'estou', 'esta', 'esta',\n",
    "             'ir', 'meu', 'muito', 'mesmo', 'no', 'nossa', 'o', 'outro', 'para', 'que', 'sem', 'talvez', 'tem', 'tendo',\n",
    "             'tenha', 'teve', 'tive', 'todo', 'um', 'uma', 'umas', 'uns', 'vou']"
   ]
  },
  {
   "cell_type": "markdown",
   "metadata": {},
   "source": [
    "# Chamando os métodos nltk.corpus na linguagem portuguesa."
   ]
  },
  {
   "cell_type": "code",
   "execution_count": 5,
   "metadata": {},
   "outputs": [],
   "source": [
    "\n",
    "stopwordsnltk = nltk.corpus.stopwords.words('portuguese')\n",
    "stopwordsnltk.append('vou')\n",
    "stopwordsnltk.append('tão')"
   ]
  },
  {
   "cell_type": "markdown",
   "metadata": {},
   "source": [
    "# Chamada de método para exibir os dados stopwordsnltk"
   ]
  },
  {
   "cell_type": "code",
   "execution_count": 6,
   "metadata": {},
   "outputs": [
    {
     "name": "stdout",
     "output_type": "stream",
     "text": [
      "Lista de Palavras do Stop Words NLTK ['a', 'à', 'ao', 'aos', 'aquela', 'aquelas', 'aquele', 'aqueles', 'aquilo', 'as', 'às', 'até', 'com', 'como', 'da', 'das', 'de', 'dela', 'delas', 'dele', 'deles', 'depois', 'do', 'dos', 'e', 'é', 'ela', 'elas', 'ele', 'eles', 'em', 'entre', 'era', 'eram', 'éramos', 'essa', 'essas', 'esse', 'esses', 'esta', 'está', 'estamos', 'estão', 'estar', 'estas', 'estava', 'estavam', 'estávamos', 'este', 'esteja', 'estejam', 'estejamos', 'estes', 'esteve', 'estive', 'estivemos', 'estiver', 'estivera', 'estiveram', 'estivéramos', 'estiverem', 'estivermos', 'estivesse', 'estivessem', 'estivéssemos', 'estou', 'eu', 'foi', 'fomos', 'for', 'fora', 'foram', 'fôramos', 'forem', 'formos', 'fosse', 'fossem', 'fôssemos', 'fui', 'há', 'haja', 'hajam', 'hajamos', 'hão', 'havemos', 'haver', 'hei', 'houve', 'houvemos', 'houver', 'houvera', 'houverá', 'houveram', 'houvéramos', 'houverão', 'houverei', 'houverem', 'houveremos', 'houveria', 'houveriam', 'houveríamos', 'houvermos', 'houvesse', 'houvessem', 'houvéssemos', 'isso', 'isto', 'já', 'lhe', 'lhes', 'mais', 'mas', 'me', 'mesmo', 'meu', 'meus', 'minha', 'minhas', 'muito', 'na', 'não', 'nas', 'nem', 'no', 'nos', 'nós', 'nossa', 'nossas', 'nosso', 'nossos', 'num', 'numa', 'o', 'os', 'ou', 'para', 'pela', 'pelas', 'pelo', 'pelos', 'por', 'qual', 'quando', 'que', 'quem', 'são', 'se', 'seja', 'sejam', 'sejamos', 'sem', 'ser', 'será', 'serão', 'serei', 'seremos', 'seria', 'seriam', 'seríamos', 'seu', 'seus', 'só', 'somos', 'sou', 'sua', 'suas', 'também', 'te', 'tem', 'tém', 'temos', 'tenha', 'tenham', 'tenhamos', 'tenho', 'terá', 'terão', 'terei', 'teremos', 'teria', 'teriam', 'teríamos', 'teu', 'teus', 'teve', 'tinha', 'tinham', 'tínhamos', 'tive', 'tivemos', 'tiver', 'tivera', 'tiveram', 'tivéramos', 'tiverem', 'tivermos', 'tivesse', 'tivessem', 'tivéssemos', 'tu', 'tua', 'tuas', 'um', 'uma', 'você', 'vocês', 'vos', 'vou', 'tão']\n"
     ]
    }
   ],
   "source": [
    "print('Lista de Palavras do Stop Words NLTK' , stopwordsnltk)"
   ]
  },
  {
   "cell_type": "markdown",
   "metadata": {},
   "source": [
    "# Método Aplicando Stemmer nas Palavras Identificadas (Radical das Palavras)"
   ]
  },
  {
   "cell_type": "code",
   "execution_count": 7,
   "metadata": {},
   "outputs": [],
   "source": [
    "def aplicastemmer(texto):\n",
    "    stemmer = nltk.stem.RSLPStemmer()\n",
    "    frasessstemming = []\n",
    "    for (palavras, emocao) in base:\n",
    "        comstemming = [str(stemmer.stem(p)) for p in palavras.split() if p not in stopwordsnltk]\n",
    "        frasessstemming.append((comstemming, emocao))\n",
    "    return frasessstemming"
   ]
  },
  {
   "cell_type": "code",
   "execution_count": 8,
   "metadata": {},
   "outputs": [
    {
     "name": "stdout",
     "output_type": "stream",
     "text": [
      "[(['admir', 'muit'], 'alegria'), (['sint', 'complet', 'am'], 'alegria'), (['am', 'maravilh'], 'alegria'), (['sent', 'anim', 'nov'], 'alegria'), (['bem', 'hoj'], 'alegria'), (['bel', 'dia', 'dirig', 'carr', 'nov'], 'alegria'), (['dia', 'bonit'], 'alegria'), (['cont', 'result', 'test', 'fiz', 'dia', 'ont'], 'alegria'), (['am', 'lind'], 'alegria'), (['amizad', 'am', 'vai', 'dur', 'sempr'], 'alegria'), (['amedront'], 'medo'), (['ameac', 'dia'], 'medo'), (['deix', 'apavor'], 'medo'), (['lug', 'apavor'], 'medo'), (['perd', 'outr', 'jog', 'elimin', 'deix', 'pav'], 'medo'), (['tom', 'cuid', 'lobisom'], 'medo'), (['descobr', 'encrenc'], 'medo'), (['trem', 'med'], 'medo'), (['med'], 'medo'), (['med', 'result', 'test'], 'medo')]\n"
     ]
    }
   ],
   "source": [
    "frasescomstemmingtreinamento = aplicastemmer(basetreino)\n",
    "frasescomstemmingteste = aplicastemmer(baseteste)\n",
    "print(frasescomstemmingtreinamento)\n",
    "#print(frasescomstemming)"
   ]
  },
  {
   "cell_type": "markdown",
   "metadata": {},
   "source": [
    "# Chamada do método que aplica Stemmer no Texto Base"
   ]
  },
  {
   "cell_type": "code",
   "execution_count": 9,
   "metadata": {},
   "outputs": [
    {
     "name": "stdout",
     "output_type": "stream",
     "text": [
      "[(['admir', 'muit'], 'alegria'), (['sint', 'complet', 'am'], 'alegria'), (['am', 'maravilh'], 'alegria'), (['sent', 'anim', 'nov'], 'alegria'), (['bem', 'hoj'], 'alegria'), (['bel', 'dia', 'dirig', 'carr', 'nov'], 'alegria'), (['dia', 'bonit'], 'alegria'), (['cont', 'result', 'test', 'fiz', 'dia', 'ont'], 'alegria'), (['am', 'lind'], 'alegria'), (['amizad', 'am', 'vai', 'dur', 'sempr'], 'alegria'), (['amedront'], 'medo'), (['ameac', 'dia'], 'medo'), (['deix', 'apavor'], 'medo'), (['lug', 'apavor'], 'medo'), (['perd', 'outr', 'jog', 'elimin', 'deix', 'pav'], 'medo'), (['tom', 'cuid', 'lobisom'], 'medo'), (['descobr', 'encrenc'], 'medo'), (['trem', 'med'], 'medo'), (['med'], 'medo'), (['med', 'result', 'test'], 'medo')]\n"
     ]
    }
   ],
   "source": [
    "frasescomstemming = aplicastemmer(base)\n",
    "frasescomstemmingteste = aplicastemmer(base)\n",
    "print(frasescomstemming)"
   ]
  },
  {
   "cell_type": "markdown",
   "metadata": {},
   "source": [
    "# Método para buscar Palavras em Texto ou Bloco de Textos."
   ]
  },
  {
   "cell_type": "code",
   "execution_count": 10,
   "metadata": {},
   "outputs": [],
   "source": [
    "def buscapalavras(frases):\n",
    "    todaspalavras = []\n",
    "    for (palavras, emocao) in frases:\n",
    "        todaspalavras.extend(palavras)\n",
    "    return todaspalavras"
   ]
  },
  {
   "cell_type": "markdown",
   "metadata": {},
   "source": [
    "# Busca de Palavras executando o método buscapalavras.\n",
    "# palavrastreinamento = buscapalavras(frasescomstemmingtreinamento)\n",
    "# palavrasteste = buscapalavras(frasescomstemmingteste)"
   ]
  },
  {
   "cell_type": "code",
   "execution_count": 11,
   "metadata": {},
   "outputs": [
    {
     "name": "stdout",
     "output_type": "stream",
     "text": [
      "['admir', 'muit', 'sint', 'complet', 'am', 'am', 'maravilh', 'sent', 'anim', 'nov', 'bem', 'hoj', 'bel', 'dia', 'dirig', 'carr', 'nov', 'dia', 'bonit', 'cont', 'result', 'test', 'fiz', 'dia', 'ont', 'am', 'lind', 'amizad', 'am', 'vai', 'dur', 'sempr', 'amedront', 'ameac', 'dia', 'deix', 'apavor', 'lug', 'apavor', 'perd', 'outr', 'jog', 'elimin', 'deix', 'pav', 'tom', 'cuid', 'lobisom', 'descobr', 'encrenc', 'trem', 'med', 'med', 'med', 'result', 'test']\n"
     ]
    }
   ],
   "source": [
    "palavras = buscapalavras(frasescomstemming)\n",
    "print(palavras)\n"
   ]
  },
  {
   "cell_type": "markdown",
   "metadata": {},
   "source": [
    "# Método para verificar a distribuição de frequencia das palavras no texto."
   ]
  },
  {
   "cell_type": "code",
   "execution_count": 12,
   "metadata": {},
   "outputs": [],
   "source": [
    "def buscafrequencia(palavras):\n",
    "    palavras = nltk.FreqDist(palavras)\n",
    "    return palavras"
   ]
  },
  {
   "cell_type": "markdown",
   "metadata": {},
   "source": [
    "# Exibição dos dados com a busca de palavras com distribuição de frequência."
   ]
  },
  {
   "cell_type": "code",
   "execution_count": 13,
   "metadata": {},
   "outputs": [
    {
     "name": "stdout",
     "output_type": "stream",
     "text": [
      "Mostrar a Frequência de Palavras no Texto\n",
      "[('am', 4), ('dia', 4), ('med', 3), ('nov', 2), ('result', 2), ('test', 2), ('deix', 2), ('apavor', 2), ('admir', 1), ('muit', 1), ('sint', 1), ('complet', 1), ('maravilh', 1), ('sent', 1), ('anim', 1), ('bem', 1), ('hoj', 1), ('bel', 1), ('dirig', 1), ('carr', 1), ('bonit', 1), ('cont', 1), ('fiz', 1), ('ont', 1), ('lind', 1), ('amizad', 1), ('vai', 1), ('dur', 1), ('sempr', 1), ('amedront', 1), ('ameac', 1), ('lug', 1), ('perd', 1), ('outr', 1), ('jog', 1), ('elimin', 1), ('pav', 1), ('tom', 1), ('cuid', 1), ('lobisom', 1), ('descobr', 1), ('encrenc', 1), ('trem', 1)]\n"
     ]
    }
   ],
   "source": [
    "frequencia = buscafrequencia(palavras)\n",
    "print('Mostrar a Frequência de Palavras no Texto')\n",
    "print(frequencia.most_common(50))\n"
   ]
  },
  {
   "cell_type": "markdown",
   "metadata": {},
   "source": [
    "# Método para verificar as palavras únicas "
   ]
  },
  {
   "cell_type": "code",
   "execution_count": 14,
   "metadata": {},
   "outputs": [],
   "source": [
    "def buscapalavrasunicas(frequencia):\n",
    "    freq = frequencia.keys()\n",
    "    return freq"
   ]
  },
  {
   "cell_type": "markdown",
   "metadata": {},
   "source": [
    "# Chamada do método buscapalavasunicas\n",
    "# palavrasunicasteste = buscapalavrasunicas(frequenciateste)\n",
    "# print(palavrasunicastreinamento)"
   ]
  },
  {
   "cell_type": "code",
   "execution_count": 15,
   "metadata": {},
   "outputs": [
    {
     "name": "stdout",
     "output_type": "stream",
     "text": [
      "dict_keys(['admir', 'muit', 'sint', 'complet', 'am', 'maravilh', 'sent', 'anim', 'nov', 'bem', 'hoj', 'bel', 'dia', 'dirig', 'carr', 'bonit', 'cont', 'result', 'test', 'fiz', 'ont', 'lind', 'amizad', 'vai', 'dur', 'sempr', 'amedront', 'ameac', 'deix', 'apavor', 'lug', 'perd', 'outr', 'jog', 'elimin', 'pav', 'tom', 'cuid', 'lobisom', 'descobr', 'encrenc', 'trem', 'med'])\n"
     ]
    }
   ],
   "source": [
    "palavrasunicas = buscapalavrasunicas(frequencia)\n",
    "\n",
    "print(palavrasunicas)"
   ]
  },
  {
   "cell_type": "markdown",
   "metadata": {},
   "source": [
    "# Extrator de Palavras."
   ]
  },
  {
   "cell_type": "code",
   "execution_count": 16,
   "metadata": {},
   "outputs": [],
   "source": [
    "\n",
    "def extratorpalavras(documento):\n",
    "    doc = set(documento)\n",
    "    caracteristicas = {}\n",
    "    for palavras in palavrasunicas:\n",
    "        caracteristicas['%s' % palavras] = (palavras in doc)\n",
    "    return caracteristicas"
   ]
  },
  {
   "cell_type": "markdown",
   "metadata": {},
   "source": [
    "# Chamar o ExtratorPalavras"
   ]
  },
  {
   "cell_type": "code",
   "execution_count": 17,
   "metadata": {},
   "outputs": [],
   "source": [
    "caracteristicasfrase = extratorpalavras(['am', 'nov', 'dia'])"
   ]
  },
  {
   "cell_type": "code",
   "execution_count": 18,
   "metadata": {},
   "outputs": [
    {
     "name": "stdout",
     "output_type": "stream",
     "text": [
      "{'admir': False, 'muit': False, 'sint': False, 'complet': False, 'am': True, 'maravilh': False, 'sent': False, 'anim': False, 'nov': True, 'bem': False, 'hoj': False, 'bel': False, 'dia': True, 'dirig': False, 'carr': False, 'bonit': False, 'cont': False, 'result': False, 'test': False, 'fiz': False, 'ont': False, 'lind': False, 'amizad': False, 'vai': False, 'dur': False, 'sempr': False, 'amedront': False, 'ameac': False, 'deix': False, 'apavor': False, 'lug': False, 'perd': False, 'outr': False, 'jog': False, 'elimin': False, 'pav': False, 'tom': False, 'cuid': False, 'lobisom': False, 'descobr': False, 'encrenc': False, 'trem': False, 'med': False}\n"
     ]
    }
   ],
   "source": [
    "print(caracteristicasfrase)"
   ]
  },
  {
   "cell_type": "markdown",
   "metadata": {},
   "source": [
    "# Extração das particularidades com o nltk.classify.apply_features"
   ]
  },
  {
   "cell_type": "code",
   "execution_count": 19,
   "metadata": {},
   "outputs": [
    {
     "name": "stdout",
     "output_type": "stream",
     "text": [
      "\n",
      "[({'admir': True, 'muit': True, 'sint': False, 'complet': False, 'am': False, 'maravilh': False, 'sent': False, 'anim': False, 'nov': False, 'bem': False, 'hoj': False, 'bel': False, 'dia': False, 'dirig': False, 'carr': False, 'bonit': False, 'cont': False, 'result': False, 'test': False, 'fiz': False, 'ont': False, 'lind': False, 'amizad': False, 'vai': False, 'dur': False, 'sempr': False, 'amedront': False, 'ameac': False, 'deix': False, 'apavor': False, 'lug': False, 'perd': False, 'outr': False, 'jog': False, 'elimin': False, 'pav': False, 'tom': False, 'cuid': False, 'lobisom': False, 'descobr': False, 'encrenc': False, 'trem': False, 'med': False}, 'alegria'), ({'admir': False, 'muit': False, 'sint': True, 'complet': True, 'am': True, 'maravilh': False, 'sent': False, 'anim': False, 'nov': False, 'bem': False, 'hoj': False, 'bel': False, 'dia': False, 'dirig': False, 'carr': False, 'bonit': False, 'cont': False, 'result': False, 'test': False, 'fiz': False, 'ont': False, 'lind': False, 'amizad': False, 'vai': False, 'dur': False, 'sempr': False, 'amedront': False, 'ameac': False, 'deix': False, 'apavor': False, 'lug': False, 'perd': False, 'outr': False, 'jog': False, 'elimin': False, 'pav': False, 'tom': False, 'cuid': False, 'lobisom': False, 'descobr': False, 'encrenc': False, 'trem': False, 'med': False}, 'alegria'), ...]\n",
      "\n",
      "[({'admir': True, 'muit': True, 'sint': False, 'complet': False, 'am': False, 'maravilh': False, 'sent': False, 'anim': False, 'nov': False, 'bem': False, 'hoj': False, 'bel': False, 'dia': False, 'dirig': False, 'carr': False, 'bonit': False, 'cont': False, 'result': False, 'test': False, 'fiz': False, 'ont': False, 'lind': False, 'amizad': False, 'vai': False, 'dur': False, 'sempr': False, 'amedront': False, 'ameac': False, 'deix': False, 'apavor': False, 'lug': False, 'perd': False, 'outr': False, 'jog': False, 'elimin': False, 'pav': False, 'tom': False, 'cuid': False, 'lobisom': False, 'descobr': False, 'encrenc': False, 'trem': False, 'med': False}, 'alegria'), ({'admir': False, 'muit': False, 'sint': True, 'complet': True, 'am': True, 'maravilh': False, 'sent': False, 'anim': False, 'nov': False, 'bem': False, 'hoj': False, 'bel': False, 'dia': False, 'dirig': False, 'carr': False, 'bonit': False, 'cont': False, 'result': False, 'test': False, 'fiz': False, 'ont': False, 'lind': False, 'amizad': False, 'vai': False, 'dur': False, 'sempr': False, 'amedront': False, 'ameac': False, 'deix': False, 'apavor': False, 'lug': False, 'perd': False, 'outr': False, 'jog': False, 'elimin': False, 'pav': False, 'tom': False, 'cuid': False, 'lobisom': False, 'descobr': False, 'encrenc': False, 'trem': False, 'med': False}, 'alegria'), ...]\n"
     ]
    }
   ],
   "source": [
    "basecompletatreinamento = nltk.classify.apply_features(extratorpalavras, frasescomstemmingtreinamento)\n",
    "basecompletateste = nltk.classify.apply_features(extratorpalavras, frasescomstemmingteste)\n",
    "print()\n",
    "print(basecompletatreinamento)\n",
    "print()\n",
    "print(basecompletateste)"
   ]
  },
  {
   "cell_type": "markdown",
   "metadata": {},
   "source": [
    "# constroi a tabela de probabilidade - Modelo de Machine Learning para o Algortimo Naive Bayes"
   ]
  },
  {
   "cell_type": "code",
   "execution_count": 20,
   "metadata": {},
   "outputs": [
    {
     "name": "stdout",
     "output_type": "stream",
     "text": [
      "['alegria', 'medo']\n",
      "Most Informative Features\n",
      "                     dia = True           alegri : medo   =      2.3 : 1.0\n",
      "                      am = False            medo : alegri =      1.6 : 1.0\n",
      "                     med = False          alegri : medo   =      1.4 : 1.0\n",
      "                     dia = False            medo : alegri =      1.3 : 1.0\n",
      "                  apavor = False          alegri : medo   =      1.2 : 1.0\n",
      "                    deix = False          alegri : medo   =      1.2 : 1.0\n",
      "                     nov = False            medo : alegri =      1.2 : 1.0\n",
      "                   admir = False            medo : alegri =      1.1 : 1.0\n",
      "                   ameac = False          alegri : medo   =      1.1 : 1.0\n",
      "                amedront = False          alegri : medo   =      1.1 : 1.0\n",
      "                  amizad = False            medo : alegri =      1.1 : 1.0\n",
      "                    anim = False            medo : alegri =      1.1 : 1.0\n",
      "                     bel = False            medo : alegri =      1.1 : 1.0\n",
      "                     bem = False            medo : alegri =      1.1 : 1.0\n",
      "                   bonit = False            medo : alegri =      1.1 : 1.0\n",
      "                    carr = False            medo : alegri =      1.1 : 1.0\n",
      "                 complet = False            medo : alegri =      1.1 : 1.0\n",
      "                    cont = False            medo : alegri =      1.1 : 1.0\n",
      "                    cuid = False          alegri : medo   =      1.1 : 1.0\n",
      "                 descobr = False          alegri : medo   =      1.1 : 1.0\n",
      "                   dirig = False            medo : alegri =      1.1 : 1.0\n",
      "                     dur = False            medo : alegri =      1.1 : 1.0\n",
      "                  elimin = False          alegri : medo   =      1.1 : 1.0\n",
      "                 encrenc = False          alegri : medo   =      1.1 : 1.0\n",
      "                     fiz = False            medo : alegri =      1.1 : 1.0\n",
      "                     hoj = False            medo : alegri =      1.1 : 1.0\n",
      "                     jog = False          alegri : medo   =      1.1 : 1.0\n",
      "                    lind = False            medo : alegri =      1.1 : 1.0\n",
      "                 lobisom = False          alegri : medo   =      1.1 : 1.0\n",
      "                     lug = False          alegri : medo   =      1.1 : 1.0\n",
      "                maravilh = False            medo : alegri =      1.1 : 1.0\n",
      "                    muit = False            medo : alegri =      1.1 : 1.0\n",
      "                     ont = False            medo : alegri =      1.1 : 1.0\n",
      "                    outr = False          alegri : medo   =      1.1 : 1.0\n",
      "                     pav = False          alegri : medo   =      1.1 : 1.0\n",
      "                    perd = False          alegri : medo   =      1.1 : 1.0\n",
      "                   sempr = False            medo : alegri =      1.1 : 1.0\n",
      "                    sent = False            medo : alegri =      1.1 : 1.0\n",
      "                    sint = False            medo : alegri =      1.1 : 1.0\n",
      "                     tom = False          alegri : medo   =      1.1 : 1.0\n",
      "                    trem = False          alegri : medo   =      1.1 : 1.0\n",
      "                     vai = False            medo : alegri =      1.1 : 1.0\n",
      "                  result = False          alegri : medo   =      1.0 : 1.0\n",
      "                  result = True           alegri : medo   =      1.0 : 1.0\n",
      "                    test = False          alegri : medo   =      1.0 : 1.0\n",
      "                    test = True           alegri : medo   =      1.0 : 1.0\n",
      "None\n"
     ]
    }
   ],
   "source": [
    "classificador = nltk.NaiveBayesClassifier.train(basecompletatreinamento)\n",
    "print(classificador.labels())\n",
    "print(classificador.show_most_informative_features(150))\n"
   ]
  },
  {
   "cell_type": "markdown",
   "metadata": {},
   "source": [
    "# Exibe a Accuracy do Modelo de Machine learning."
   ]
  },
  {
   "cell_type": "code",
   "execution_count": 21,
   "metadata": {},
   "outputs": [
    {
     "name": "stdout",
     "output_type": "stream",
     "text": [
      "1.0\n"
     ]
    }
   ],
   "source": [
    "print(nltk.classify.accuracy(classificador, basecompletateste))"
   ]
  },
  {
   "cell_type": "code",
   "execution_count": 22,
   "metadata": {},
   "outputs": [
    {
     "name": "stdout",
     "output_type": "stream",
     "text": [
      "1.0\n"
     ]
    }
   ],
   "source": [
    "print(nltk.classify.accuracy(classificador, basecompletatreinamento))"
   ]
  },
  {
   "cell_type": "code",
   "execution_count": 23,
   "metadata": {},
   "outputs": [
    {
     "name": "stdout",
     "output_type": "stream",
     "text": [
      "{'admir': True, 'muit': True, 'sint': False, 'complet': False, 'am': False, 'maravilh': False, 'sent': False, 'anim': False, 'nov': False, 'bem': False, 'hoj': False, 'bel': False, 'dia': False, 'dirig': False, 'carr': False, 'bonit': False, 'cont': False, 'result': False, 'test': False, 'fiz': False, 'ont': False, 'lind': False, 'amizad': False, 'vai': False, 'dur': False, 'sempr': False, 'amedront': False, 'ameac': False, 'deix': False, 'apavor': False, 'lug': False, 'perd': False, 'outr': False, 'jog': False, 'elimin': False, 'pav': False, 'tom': False, 'cuid': False, 'lobisom': False, 'descobr': False, 'encrenc': False, 'trem': False, 'med': False}\n",
      "alegria\n",
      "{'admir': False, 'muit': False, 'sint': True, 'complet': True, 'am': True, 'maravilh': False, 'sent': False, 'anim': False, 'nov': False, 'bem': False, 'hoj': False, 'bel': False, 'dia': False, 'dirig': False, 'carr': False, 'bonit': False, 'cont': False, 'result': False, 'test': False, 'fiz': False, 'ont': False, 'lind': False, 'amizad': False, 'vai': False, 'dur': False, 'sempr': False, 'amedront': False, 'ameac': False, 'deix': False, 'apavor': False, 'lug': False, 'perd': False, 'outr': False, 'jog': False, 'elimin': False, 'pav': False, 'tom': False, 'cuid': False, 'lobisom': False, 'descobr': False, 'encrenc': False, 'trem': False, 'med': False}\n",
      "alegria\n",
      "{'admir': False, 'muit': False, 'sint': False, 'complet': False, 'am': True, 'maravilh': True, 'sent': False, 'anim': False, 'nov': False, 'bem': False, 'hoj': False, 'bel': False, 'dia': False, 'dirig': False, 'carr': False, 'bonit': False, 'cont': False, 'result': False, 'test': False, 'fiz': False, 'ont': False, 'lind': False, 'amizad': False, 'vai': False, 'dur': False, 'sempr': False, 'amedront': False, 'ameac': False, 'deix': False, 'apavor': False, 'lug': False, 'perd': False, 'outr': False, 'jog': False, 'elimin': False, 'pav': False, 'tom': False, 'cuid': False, 'lobisom': False, 'descobr': False, 'encrenc': False, 'trem': False, 'med': False}\n",
      "alegria\n",
      "{'admir': False, 'muit': False, 'sint': False, 'complet': False, 'am': False, 'maravilh': False, 'sent': True, 'anim': True, 'nov': True, 'bem': False, 'hoj': False, 'bel': False, 'dia': False, 'dirig': False, 'carr': False, 'bonit': False, 'cont': False, 'result': False, 'test': False, 'fiz': False, 'ont': False, 'lind': False, 'amizad': False, 'vai': False, 'dur': False, 'sempr': False, 'amedront': False, 'ameac': False, 'deix': False, 'apavor': False, 'lug': False, 'perd': False, 'outr': False, 'jog': False, 'elimin': False, 'pav': False, 'tom': False, 'cuid': False, 'lobisom': False, 'descobr': False, 'encrenc': False, 'trem': False, 'med': False}\n",
      "alegria\n",
      "{'admir': False, 'muit': False, 'sint': False, 'complet': False, 'am': False, 'maravilh': False, 'sent': False, 'anim': False, 'nov': False, 'bem': True, 'hoj': True, 'bel': False, 'dia': False, 'dirig': False, 'carr': False, 'bonit': False, 'cont': False, 'result': False, 'test': False, 'fiz': False, 'ont': False, 'lind': False, 'amizad': False, 'vai': False, 'dur': False, 'sempr': False, 'amedront': False, 'ameac': False, 'deix': False, 'apavor': False, 'lug': False, 'perd': False, 'outr': False, 'jog': False, 'elimin': False, 'pav': False, 'tom': False, 'cuid': False, 'lobisom': False, 'descobr': False, 'encrenc': False, 'trem': False, 'med': False}\n",
      "alegria\n",
      "{'admir': False, 'muit': False, 'sint': False, 'complet': False, 'am': False, 'maravilh': False, 'sent': False, 'anim': False, 'nov': True, 'bem': False, 'hoj': False, 'bel': True, 'dia': True, 'dirig': True, 'carr': True, 'bonit': False, 'cont': False, 'result': False, 'test': False, 'fiz': False, 'ont': False, 'lind': False, 'amizad': False, 'vai': False, 'dur': False, 'sempr': False, 'amedront': False, 'ameac': False, 'deix': False, 'apavor': False, 'lug': False, 'perd': False, 'outr': False, 'jog': False, 'elimin': False, 'pav': False, 'tom': False, 'cuid': False, 'lobisom': False, 'descobr': False, 'encrenc': False, 'trem': False, 'med': False}\n",
      "alegria\n",
      "{'admir': False, 'muit': False, 'sint': False, 'complet': False, 'am': False, 'maravilh': False, 'sent': False, 'anim': False, 'nov': False, 'bem': False, 'hoj': False, 'bel': False, 'dia': True, 'dirig': False, 'carr': False, 'bonit': True, 'cont': False, 'result': False, 'test': False, 'fiz': False, 'ont': False, 'lind': False, 'amizad': False, 'vai': False, 'dur': False, 'sempr': False, 'amedront': False, 'ameac': False, 'deix': False, 'apavor': False, 'lug': False, 'perd': False, 'outr': False, 'jog': False, 'elimin': False, 'pav': False, 'tom': False, 'cuid': False, 'lobisom': False, 'descobr': False, 'encrenc': False, 'trem': False, 'med': False}\n",
      "alegria\n",
      "{'admir': False, 'muit': False, 'sint': False, 'complet': False, 'am': False, 'maravilh': False, 'sent': False, 'anim': False, 'nov': False, 'bem': False, 'hoj': False, 'bel': False, 'dia': True, 'dirig': False, 'carr': False, 'bonit': False, 'cont': True, 'result': True, 'test': True, 'fiz': True, 'ont': True, 'lind': False, 'amizad': False, 'vai': False, 'dur': False, 'sempr': False, 'amedront': False, 'ameac': False, 'deix': False, 'apavor': False, 'lug': False, 'perd': False, 'outr': False, 'jog': False, 'elimin': False, 'pav': False, 'tom': False, 'cuid': False, 'lobisom': False, 'descobr': False, 'encrenc': False, 'trem': False, 'med': False}\n",
      "alegria\n",
      "{'admir': False, 'muit': False, 'sint': False, 'complet': False, 'am': True, 'maravilh': False, 'sent': False, 'anim': False, 'nov': False, 'bem': False, 'hoj': False, 'bel': False, 'dia': False, 'dirig': False, 'carr': False, 'bonit': False, 'cont': False, 'result': False, 'test': False, 'fiz': False, 'ont': False, 'lind': True, 'amizad': False, 'vai': False, 'dur': False, 'sempr': False, 'amedront': False, 'ameac': False, 'deix': False, 'apavor': False, 'lug': False, 'perd': False, 'outr': False, 'jog': False, 'elimin': False, 'pav': False, 'tom': False, 'cuid': False, 'lobisom': False, 'descobr': False, 'encrenc': False, 'trem': False, 'med': False}\n",
      "alegria\n",
      "{'admir': False, 'muit': False, 'sint': False, 'complet': False, 'am': True, 'maravilh': False, 'sent': False, 'anim': False, 'nov': False, 'bem': False, 'hoj': False, 'bel': False, 'dia': False, 'dirig': False, 'carr': False, 'bonit': False, 'cont': False, 'result': False, 'test': False, 'fiz': False, 'ont': False, 'lind': False, 'amizad': True, 'vai': True, 'dur': True, 'sempr': True, 'amedront': False, 'ameac': False, 'deix': False, 'apavor': False, 'lug': False, 'perd': False, 'outr': False, 'jog': False, 'elimin': False, 'pav': False, 'tom': False, 'cuid': False, 'lobisom': False, 'descobr': False, 'encrenc': False, 'trem': False, 'med': False}\n",
      "alegria\n",
      "{'admir': False, 'muit': False, 'sint': False, 'complet': False, 'am': False, 'maravilh': False, 'sent': False, 'anim': False, 'nov': False, 'bem': False, 'hoj': False, 'bel': False, 'dia': False, 'dirig': False, 'carr': False, 'bonit': False, 'cont': False, 'result': False, 'test': False, 'fiz': False, 'ont': False, 'lind': False, 'amizad': False, 'vai': False, 'dur': False, 'sempr': False, 'amedront': True, 'ameac': False, 'deix': False, 'apavor': False, 'lug': False, 'perd': False, 'outr': False, 'jog': False, 'elimin': False, 'pav': False, 'tom': False, 'cuid': False, 'lobisom': False, 'descobr': False, 'encrenc': False, 'trem': False, 'med': False}\n",
      "medo\n",
      "{'admir': False, 'muit': False, 'sint': False, 'complet': False, 'am': False, 'maravilh': False, 'sent': False, 'anim': False, 'nov': False, 'bem': False, 'hoj': False, 'bel': False, 'dia': True, 'dirig': False, 'carr': False, 'bonit': False, 'cont': False, 'result': False, 'test': False, 'fiz': False, 'ont': False, 'lind': False, 'amizad': False, 'vai': False, 'dur': False, 'sempr': False, 'amedront': False, 'ameac': True, 'deix': False, 'apavor': False, 'lug': False, 'perd': False, 'outr': False, 'jog': False, 'elimin': False, 'pav': False, 'tom': False, 'cuid': False, 'lobisom': False, 'descobr': False, 'encrenc': False, 'trem': False, 'med': False}\n",
      "medo\n",
      "{'admir': False, 'muit': False, 'sint': False, 'complet': False, 'am': False, 'maravilh': False, 'sent': False, 'anim': False, 'nov': False, 'bem': False, 'hoj': False, 'bel': False, 'dia': False, 'dirig': False, 'carr': False, 'bonit': False, 'cont': False, 'result': False, 'test': False, 'fiz': False, 'ont': False, 'lind': False, 'amizad': False, 'vai': False, 'dur': False, 'sempr': False, 'amedront': False, 'ameac': False, 'deix': True, 'apavor': True, 'lug': False, 'perd': False, 'outr': False, 'jog': False, 'elimin': False, 'pav': False, 'tom': False, 'cuid': False, 'lobisom': False, 'descobr': False, 'encrenc': False, 'trem': False, 'med': False}\n",
      "medo\n",
      "{'admir': False, 'muit': False, 'sint': False, 'complet': False, 'am': False, 'maravilh': False, 'sent': False, 'anim': False, 'nov': False, 'bem': False, 'hoj': False, 'bel': False, 'dia': False, 'dirig': False, 'carr': False, 'bonit': False, 'cont': False, 'result': False, 'test': False, 'fiz': False, 'ont': False, 'lind': False, 'amizad': False, 'vai': False, 'dur': False, 'sempr': False, 'amedront': False, 'ameac': False, 'deix': False, 'apavor': True, 'lug': True, 'perd': False, 'outr': False, 'jog': False, 'elimin': False, 'pav': False, 'tom': False, 'cuid': False, 'lobisom': False, 'descobr': False, 'encrenc': False, 'trem': False, 'med': False}\n",
      "medo\n",
      "{'admir': False, 'muit': False, 'sint': False, 'complet': False, 'am': False, 'maravilh': False, 'sent': False, 'anim': False, 'nov': False, 'bem': False, 'hoj': False, 'bel': False, 'dia': False, 'dirig': False, 'carr': False, 'bonit': False, 'cont': False, 'result': False, 'test': False, 'fiz': False, 'ont': False, 'lind': False, 'amizad': False, 'vai': False, 'dur': False, 'sempr': False, 'amedront': False, 'ameac': False, 'deix': True, 'apavor': False, 'lug': False, 'perd': True, 'outr': True, 'jog': True, 'elimin': True, 'pav': True, 'tom': False, 'cuid': False, 'lobisom': False, 'descobr': False, 'encrenc': False, 'trem': False, 'med': False}\n",
      "medo\n",
      "{'admir': False, 'muit': False, 'sint': False, 'complet': False, 'am': False, 'maravilh': False, 'sent': False, 'anim': False, 'nov': False, 'bem': False, 'hoj': False, 'bel': False, 'dia': False, 'dirig': False, 'carr': False, 'bonit': False, 'cont': False, 'result': False, 'test': False, 'fiz': False, 'ont': False, 'lind': False, 'amizad': False, 'vai': False, 'dur': False, 'sempr': False, 'amedront': False, 'ameac': False, 'deix': False, 'apavor': False, 'lug': False, 'perd': False, 'outr': False, 'jog': False, 'elimin': False, 'pav': False, 'tom': True, 'cuid': True, 'lobisom': True, 'descobr': False, 'encrenc': False, 'trem': False, 'med': False}\n",
      "medo\n",
      "{'admir': False, 'muit': False, 'sint': False, 'complet': False, 'am': False, 'maravilh': False, 'sent': False, 'anim': False, 'nov': False, 'bem': False, 'hoj': False, 'bel': False, 'dia': False, 'dirig': False, 'carr': False, 'bonit': False, 'cont': False, 'result': False, 'test': False, 'fiz': False, 'ont': False, 'lind': False, 'amizad': False, 'vai': False, 'dur': False, 'sempr': False, 'amedront': False, 'ameac': False, 'deix': False, 'apavor': False, 'lug': False, 'perd': False, 'outr': False, 'jog': False, 'elimin': False, 'pav': False, 'tom': False, 'cuid': False, 'lobisom': False, 'descobr': True, 'encrenc': True, 'trem': False, 'med': False}\n",
      "medo\n",
      "{'admir': False, 'muit': False, 'sint': False, 'complet': False, 'am': False, 'maravilh': False, 'sent': False, 'anim': False, 'nov': False, 'bem': False, 'hoj': False, 'bel': False, 'dia': False, 'dirig': False, 'carr': False, 'bonit': False, 'cont': False, 'result': False, 'test': False, 'fiz': False, 'ont': False, 'lind': False, 'amizad': False, 'vai': False, 'dur': False, 'sempr': False, 'amedront': False, 'ameac': False, 'deix': False, 'apavor': False, 'lug': False, 'perd': False, 'outr': False, 'jog': False, 'elimin': False, 'pav': False, 'tom': False, 'cuid': False, 'lobisom': False, 'descobr': False, 'encrenc': False, 'trem': True, 'med': True}\n",
      "medo\n",
      "{'admir': False, 'muit': False, 'sint': False, 'complet': False, 'am': False, 'maravilh': False, 'sent': False, 'anim': False, 'nov': False, 'bem': False, 'hoj': False, 'bel': False, 'dia': False, 'dirig': False, 'carr': False, 'bonit': False, 'cont': False, 'result': False, 'test': False, 'fiz': False, 'ont': False, 'lind': False, 'amizad': False, 'vai': False, 'dur': False, 'sempr': False, 'amedront': False, 'ameac': False, 'deix': False, 'apavor': False, 'lug': False, 'perd': False, 'outr': False, 'jog': False, 'elimin': False, 'pav': False, 'tom': False, 'cuid': False, 'lobisom': False, 'descobr': False, 'encrenc': False, 'trem': False, 'med': True}\n",
      "medo\n",
      "{'admir': False, 'muit': False, 'sint': False, 'complet': False, 'am': False, 'maravilh': False, 'sent': False, 'anim': False, 'nov': False, 'bem': False, 'hoj': False, 'bel': False, 'dia': False, 'dirig': False, 'carr': False, 'bonit': False, 'cont': False, 'result': True, 'test': True, 'fiz': False, 'ont': False, 'lind': False, 'amizad': False, 'vai': False, 'dur': False, 'sempr': False, 'amedront': False, 'ameac': False, 'deix': False, 'apavor': False, 'lug': False, 'perd': False, 'outr': False, 'jog': False, 'elimin': False, 'pav': False, 'tom': False, 'cuid': False, 'lobisom': False, 'descobr': False, 'encrenc': False, 'trem': False, 'med': True}\n",
      "medo\n"
     ]
    }
   ],
   "source": [
    "erros = []\n",
    "for (frase, classe) in basecompletateste:\n",
    "    print(frase)\n",
    "    print(classe)\n",
    "    resultado = classificador.classify(frase)\n",
    "    if resultado != classe:\n",
    "        erros.append((classe, resultado, frase))\n",
    "for (classe, resultado, frase) in erros:\n",
    "    print(classe, resultado, frase)\n",
    "\n",
    "from nltk.metrics import ConfusionMatrix\n",
    "esperado = []\n",
    "previsto = []\n",
    "for (frase, classe) in basecompletateste:\n",
    "    resultado = classificador.classify(frase)\n",
    "    previsto.append(resultado)\n",
    "    esperado.append(classe)"
   ]
  },
  {
   "cell_type": "markdown",
   "metadata": {},
   "source": [
    "# esperado = 'alegria alegria alegria alegria medo medo surpresa surpresa'.split()\n",
    "# previsto = 'alegria alegria medo surpresa medo medo medo surpresa'.split()\n",
    "# 1. Cenário\n",
    "# 2. Número de classes - 16%\n",
    "# 3. ZeroRules - 21,05%"
   ]
  },
  {
   "cell_type": "code",
   "execution_count": 24,
   "metadata": {},
   "outputs": [
    {
     "name": "stdout",
     "output_type": "stream",
     "text": [
      "        |  a    |\n",
      "        |  l    |\n",
      "        |  e    |\n",
      "        |  g  m |\n",
      "        |  r  e |\n",
      "        |  i  d |\n",
      "        |  a  o |\n",
      "--------+-------+\n",
      "alegria |<10> . |\n",
      "   medo |  .<10>|\n",
      "--------+-------+\n",
      "(row = reference; col = test)\n",
      "\n"
     ]
    }
   ],
   "source": [
    "matriz = ConfusionMatrix(esperado, previsto)\n",
    "print(matriz)"
   ]
  },
  {
   "cell_type": "code",
   "execution_count": 25,
   "metadata": {},
   "outputs": [
    {
     "name": "stdout",
     "output_type": "stream",
     "text": [
      "['medo,', 'medo,', 'medo,', 'horror,']\n"
     ]
    }
   ],
   "source": [
    "teste = 'Medo, medo, medo, horror,'\n",
    "testestemming = []\n",
    "stemmer = nltk.stem.RSLPStemmer()\n",
    "for (palavrastreinamento) in teste.split():\n",
    "    comstem = [p for p in palavrastreinamento.split()]\n",
    "    testestemming.append(str(stemmer.stem(comstem[0])))\n",
    "print(testestemming)"
   ]
  },
  {
   "cell_type": "code",
   "execution_count": 26,
   "metadata": {},
   "outputs": [
    {
     "name": "stdout",
     "output_type": "stream",
     "text": [
      "{'admir': False, 'muit': False, 'sint': False, 'complet': False, 'am': False, 'maravilh': False, 'sent': False, 'anim': False, 'nov': False, 'bem': False, 'hoj': False, 'bel': False, 'dia': False, 'dirig': False, 'carr': False, 'bonit': False, 'cont': False, 'result': False, 'test': False, 'fiz': False, 'ont': False, 'lind': False, 'amizad': False, 'vai': False, 'dur': False, 'sempr': False, 'amedront': False, 'ameac': False, 'deix': False, 'apavor': False, 'lug': False, 'perd': False, 'outr': False, 'jog': False, 'elimin': False, 'pav': False, 'tom': False, 'cuid': False, 'lobisom': False, 'descobr': False, 'encrenc': False, 'trem': False, 'med': False}\n"
     ]
    }
   ],
   "source": [
    "novo = extratorpalavras(testestemming)\n",
    "print(novo)"
   ]
  },
  {
   "cell_type": "code",
   "execution_count": 27,
   "metadata": {},
   "outputs": [
    {
     "name": "stdout",
     "output_type": "stream",
     "text": [
      "medo\n",
      "alegria: 0.295511\n",
      "medo: 0.704489\n"
     ]
    }
   ],
   "source": [
    "print(classificador.classify(novo))\n",
    "distribuicao = classificador.prob_classify(novo)\n",
    "for classe in distribuicao.samples():\n",
    "    print(\"%s: %f\" % (classe, distribuicao.prob(classe)))\n"
   ]
  },
  {
   "cell_type": "code",
   "execution_count": 28,
   "metadata": {},
   "outputs": [
    {
     "data": {
      "text/plain": [
       "['modelo_classificador.pkl']"
      ]
     },
     "execution_count": 28,
     "metadata": {},
     "output_type": "execute_result"
    }
   ],
   "source": [
    "import joblib\n",
    "\n",
    "# Salva o modelo em disco\n",
    "\n",
    "joblib.dump(classificador, 'modelo_classificador.pkl')"
   ]
  },
  {
   "cell_type": "code",
   "execution_count": 30,
   "metadata": {},
   "outputs": [
    {
     "data": {
      "text/plain": [
       "['palavras.pkl']"
      ]
     },
     "execution_count": 30,
     "metadata": {},
     "output_type": "execute_result"
    }
   ],
   "source": [
    "joblib.dump(palavras, 'palavras.pkl')"
   ]
  }
 ],
 "metadata": {
  "kernelspec": {
   "display_name": "Python 3 (ipykernel)",
   "language": "python",
   "name": "python3"
  },
  "language_info": {
   "codemirror_mode": {
    "name": "ipython",
    "version": 3
   },
   "file_extension": ".py",
   "mimetype": "text/x-python",
   "name": "python",
   "nbconvert_exporter": "python",
   "pygments_lexer": "ipython3",
   "version": "3.9.13"
  }
 },
 "nbformat": 4,
 "nbformat_minor": 2
}
